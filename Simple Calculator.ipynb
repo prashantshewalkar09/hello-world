{
 "cells": [
  {
   "cell_type": "code",
   "execution_count": 1,
   "metadata": {},
   "outputs": [
    {
     "name": "stdout",
     "output_type": "stream",
     "text": [
      "Select operation.\n",
      "1.Add\n",
      "2.Subtract\n",
      "3.multiply\n",
      "4.Divide\n",
      "5.Exit\n",
      "Enter choice(1/2/3/4/5):1\n",
      "Enter first number:34\n",
      "Enter second number:56\n",
      "34 + 56 = 90\n",
      "Select operation.\n",
      "1.Add\n",
      "2.Subtract\n",
      "3.multiply\n",
      "4.Divide\n",
      "5.Exit\n",
      "Enter choice(1/2/3/4/5):5\n"
     ]
    }
   ],
   "source": [
    "def add (x, y):\n",
    "    \"\"\"This function adds two numbers\"\"\"\n",
    "    return x+y\n",
    "def subtract (x, y):\n",
    "    \"\"\"This function subtracts two numbers\"\"\"\n",
    "    return x-y\n",
    "def multiply (x, y):\n",
    "    \"\"\"This function multiplies two numbers\"\"\"\n",
    "    return x*y\n",
    "def divide (x, y):\n",
    "    \"\"\"This function divides two numbers\"\"\"\n",
    "    return x/y\n",
    "while True:\n",
    "    print(\"Select operation.\")\n",
    "    print(\"1.Add\")\n",
    "    print(\"2.Subtract\")\n",
    "    print(\"3.multiply\")\n",
    "    print(\"4.Divide\")\n",
    "    print(\"5.Exit\")\n",
    "    choice = input(\"Enter choice(1/2/3/4/5):\")\n",
    "    if choice == '1':\n",
    "        num1 = int(input(\"Enter first number:\"))\n",
    "        num2 = int(input(\"Enter second number:\"))\n",
    "        print(num1,\"+\",num2,\"=\",add(num1,num2))\n",
    "    \n",
    "    elif choice == '2':\n",
    "        num1 = int(input(\"Enter first number:\"))\n",
    "        num2 = int(input(\"Enter second number:\"))\n",
    "        print(num1,\"-\",num2,\"=\",subtract(num1,num2))\n",
    "    \n",
    "    elif choice == '3':\n",
    "        num1 = int(input(\"Enter first number:\"))\n",
    "        num2 = int(input(\"Enter second number:\"))\n",
    "        print(num1,\"*\",num2,\"=\",multiply(num1,num2))\n",
    "    \n",
    "    elif choice == '4':\n",
    "        num1 = int(input(\"Enter first number:\"))\n",
    "        num2 = int(input(\"Enter second number:\"))\n",
    "        print(num1,\"/*\",num2,\"=\",divide(num1,num2))\n",
    "    \n",
    "    elif choice == '5':\n",
    "        break    "
   ]
  },
  {
   "cell_type": "code",
   "execution_count": null,
   "metadata": {},
   "outputs": [],
   "source": []
  }
 ],
 "metadata": {
  "kernelspec": {
   "display_name": "Python 3",
   "language": "python",
   "name": "python3"
  },
  "language_info": {
   "codemirror_mode": {
    "name": "ipython",
    "version": 3
   },
   "file_extension": ".py",
   "mimetype": "text/x-python",
   "name": "python",
   "nbconvert_exporter": "python",
   "pygments_lexer": "ipython3",
   "version": "3.7.3"
  }
 },
 "nbformat": 4,
 "nbformat_minor": 2
}
